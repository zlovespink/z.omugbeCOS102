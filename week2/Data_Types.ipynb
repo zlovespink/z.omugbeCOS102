{
 "cells": [
  {
   "cell_type": "markdown",
   "id": "e166943a-38c6-4407-a7c4-1bcce8da07c2",
   "metadata": {},
   "source": [
    "# Python Data Types\n",
    "Python features a rich set of built-in data types that allow developers to work with different kinds of data efficiently."
   ]
  },
  {
   "cell_type": "markdown",
   "id": "ee3e500a-5c00-44d7-9d74-96fb88eef845",
   "metadata": {},
   "source": [
    "## 1. Integers (int)\n",
    "Integers represent whole numbers without any decimal parts. They can be positive, negative, or zero, and have unlimited precision in Python (limited only by available memory)."
   ]
  },
  {
   "cell_type": "code",
   "execution_count": 96,
   "id": "4876b27b-c468-4be6-8fb1-04c2fc83578d",
   "metadata": {},
   "outputs": [
    {
     "name": "stdout",
     "output_type": "stream",
     "text": [
      "<class 'int'>\n"
     ]
    }
   ],
   "source": [
    "# Creating integers\n",
    "age = 25\n",
    "temperature = -10\n",
    "zero = 0\n",
    "\n",
    "# Checking type\n",
    "print(type(age))  # <class 'int'>"
   ]
  },
  {
   "cell_type": "markdown",
   "id": "2dbdbc54-7860-40d7-89a9-9aa453e404ac",
   "metadata": {},
   "source": [
    "### Common Integer Operations\n",
    "\n",
    "| Operation | Description | Example | Result |\n",
    "|-----------|-------------|---------|--------|\n",
    "| Addition | Adds two numbers | `5 + 3` | `8` |\n",
    "| Subtraction | Subtracts one number from another | `10 - 4` | `6` |\n",
    "| Multiplication | Multiplies two numbers | `2 * 6` | `12` |\n",
    "| Division | Divides one number by another (returns float) | `8 / 2` | `4.0` |\n",
    "| Floor Division | Divides and returns whole number result | `10 // 3` | `3` |\n",
    "| Modulus | Returns remainder after division | `10 % 3` | `1` |\n",
    "| Exponentiation | Raises a number to a power | `2 ** 3` | `8` |\n",
    "| Absolute Value | Returns positive value | `abs(-15)` | `15` |"
   ]
  },
  {
   "cell_type": "markdown",
   "id": "88b8f64e-8f2b-4b4a-b98e-68c50b7425c7",
   "metadata": {},
   "source": [
    "### Converting to Integers"
   ]
  },
  {
   "cell_type": "code",
   "execution_count": 97,
   "id": "09434ca6-79f8-4466-958a-802f3c437027",
   "metadata": {},
   "outputs": [
    {
     "data": {
      "text/plain": [
       "0"
      ]
     },
     "execution_count": 97,
     "metadata": {},
     "output_type": "execute_result"
    }
   ],
   "source": [
    "# From float\n",
    "int(5.7)  # 5 (truncates, doesn't round)\n",
    "\n",
    "# From string\n",
    "int(\"42\")  # 42\n",
    "\n",
    "# From boolean\n",
    "int(True)  # 1\n",
    "int(False)  # 0"
   ]
  },
  {
   "cell_type": "markdown",
   "id": "2a068401-39d1-4245-b7a1-03ed5a9f2820",
   "metadata": {},
   "source": [
    "## 2. Floating-Point Numbers (float)\n",
    "\n",
    "Floats represent real numbers with decimal points. They have limited precision and follow the IEEE 754 standard."
   ]
  },
  {
   "cell_type": "code",
   "execution_count": 98,
   "id": "8af041f5-9ff4-442d-896f-172f2c60c6db",
   "metadata": {},
   "outputs": [
    {
     "name": "stdout",
     "output_type": "stream",
     "text": [
      "<class 'float'>\n"
     ]
    }
   ],
   "source": [
    "# Creating floats\n",
    "pi = 3.14159\n",
    "height = 1.75\n",
    "negative_float = -0.5\n",
    "\n",
    "# Scientific notation\n",
    "large_number = 1.6e3  # 1600.0\n",
    "tiny_number = 1.6e-3  # 0.0016\n",
    "\n",
    "print(type(pi))  # <class 'float'>"
   ]
  },
  {
   "cell_type": "markdown",
   "id": "dd334576-e9f6-445c-a57c-a97a1d72523a",
   "metadata": {},
   "source": [
    "### Common Float Operations"
   ]
  },
  {
   "cell_type": "code",
   "execution_count": 99,
   "id": "10336650-ed06-42df-aa05-fde31d4a463e",
   "metadata": {},
   "outputs": [
    {
     "data": {
      "text/plain": [
       "4"
      ]
     },
     "execution_count": 99,
     "metadata": {},
     "output_type": "execute_result"
    }
   ],
   "source": [
    "# Basic arithmetic works the same as with integers\n",
    "sum_result = 4.2 + 3.8  # 8.0\n",
    "difference = 5.5 - 2.7  # 2.8\n",
    "product = 2.5 * 3.0  # 7.5\n",
    "quotient = 9.5 / 2.0  # 4.75\n",
    "\n",
    "# Rounding\n",
    "round(3.14159, 2)  # 3.14 (rounds to 2 decimal places)\n",
    "round(2.5)  # 2 (rounds to nearest even integer when tie)\n",
    "round(3.5)  # 4\n",
    "\n",
    "# Other useful methods\n",
    "import math\n",
    "math.floor(4.7)  # 4 (rounds down)\n",
    "math.ceil(4.3)  # 5 (rounds up)\n",
    "math.trunc(4.7)  # 4 (truncates decimal part)"
   ]
  },
  {
   "cell_type": "markdown",
   "id": "eb072afd-4d6b-4403-894a-68d35c1e4663",
   "metadata": {},
   "source": [
    "### Float Precision Issues"
   ]
  },
  {
   "cell_type": "code",
   "execution_count": 100,
   "id": "f4b0752f-685e-4318-a6f4-f5c88f1709a4",
   "metadata": {},
   "outputs": [
    {
     "data": {
      "text/plain": [
       "0.30000000000000004"
      ]
     },
     "execution_count": 100,
     "metadata": {},
     "output_type": "execute_result"
    }
   ],
   "source": [
    "# Float arithmetic may have precision issues\n",
    "0.1 + 0.2  # Returns 0.30000000000000004, not exactly 0.3"
   ]
  },
  {
   "cell_type": "markdown",
   "id": "5b856641-655a-4b7e-af41-e30ff83a2ecf",
   "metadata": {},
   "source": [
    "## 3. Complex Numbers (complex)\n",
    "\n",
    "Complex numbers have both real and imaginary parts, where the imaginary part is denoted by `j` in Python (equivalent to `i` in mathematics)."
   ]
  },
  {
   "cell_type": "code",
   "execution_count": 101,
   "id": "da8de96c-a116-4a49-87aa-1c4f978abc29",
   "metadata": {},
   "outputs": [
    {
     "name": "stdout",
     "output_type": "stream",
     "text": [
      "<class 'complex'>\n"
     ]
    }
   ],
   "source": [
    "# Creating complex numbers\n",
    "z1 = 2 + 3j  # Direct creation\n",
    "z2 = complex(2, 3)  # Using complex() function\n",
    "\n",
    "print(type(z1))  # <class 'complex'>"
   ]
  },
  {
   "cell_type": "markdown",
   "id": "013fb952-a9a7-4bb5-97bf-63d1634bdc07",
   "metadata": {},
   "source": [
    "### Complex Number Properties and Operations"
   ]
  },
  {
   "cell_type": "code",
   "execution_count": 102,
   "id": "9325ff15-2c72-42eb-b184-1eb1937b5069",
   "metadata": {},
   "outputs": [
    {
     "name": "stdout",
     "output_type": "stream",
     "text": [
      "2.0\n",
      "3.0\n",
      "(3+5j)\n",
      "(-4+7j)\n",
      "(1-2j)\n"
     ]
    }
   ],
   "source": [
    "# Accessing parts\n",
    "z = 2 + 3j\n",
    "print(z.real)  # 2.0\n",
    "print(z.imag)  # 3.0\n",
    "\n",
    "# Basic operations\n",
    "z1 = 1 + 2j\n",
    "z2 = 2 + 3j\n",
    "print(z1 + z2)  # (3+5j)\n",
    "print(z1 * z2)  # (-4+7j)\n",
    "\n",
    "# Complex conjugate (changes sign of imaginary part)\n",
    "print(z1.conjugate())  # (1-2j)\n",
    "\n",
    "# Magnitude or absolute value\n",
    "import math\n",
    "magnitude = math.sqrt(z1.real**2 + z1.imag**2)  # 2.236...\n",
    "# Or use abs()\n",
    "magnitude = abs(z1)  # 2.236..."
   ]
  },
  {
   "cell_type": "markdown",
   "id": "2250f432-cf6a-4465-8dd0-673598429b41",
   "metadata": {},
   "source": [
    "## 4. Strings (str)\n",
    "\n",
    "Strings are sequences of characters, used to represent text. They are immutable in Python, meaning they cannot be changed after creation."
   ]
  },
  {
   "cell_type": "code",
   "execution_count": 103,
   "id": "c3124644-21c5-40ab-99b6-b13dac5075f6",
   "metadata": {},
   "outputs": [
    {
     "name": "stdout",
     "output_type": "stream",
     "text": [
      "<class 'str'>\n"
     ]
    }
   ],
   "source": [
    "# Creating strings with different quotes\n",
    "single_quoted = 'Hello'\n",
    "double_quoted = \"World\"\n",
    "triple_quoted = '''This string can\n",
    "span multiple lines'''\n",
    "raw_string = r\"C:\\Users\\name\"  # Raw string (ignores escape characters)\n",
    "\n",
    "print(type(single_quoted))  # <class 'str'>"
   ]
  },
  {
   "cell_type": "markdown",
   "id": "970532f5-c4e7-407c-a99e-fdfeb5f3b7f5",
   "metadata": {},
   "source": [
    "### String Operations and Methods"
   ]
  },
  {
   "cell_type": "code",
   "execution_count": 104,
   "id": "cc76e6be-8815-4e90-8d55-ff6c7f666499",
   "metadata": {},
   "outputs": [],
   "source": [
    "# Concatenation (combining strings)\n",
    "greeting = \"Hello\" + \" \" + \"World\"  # \"Hello World\"\n",
    "\n",
    "# Repetition\n",
    "repeated = \"Python\" * 3  # \"PythonPythonPython\"\n",
    "\n",
    "# Indexing (accessing characters)\n",
    "first_char = greeting[0]  # \"H\"\n",
    "last_char = greeting[-1]  # \"d\"\n",
    "\n",
    "# Slicing (extracting substrings)\n",
    "substring = greeting[0:5]  # \"Hello\"\n",
    "every_other = greeting[::2]  # \"HloWrd\"\n",
    "\n",
    "# Length\n",
    "length = len(greeting)  # 11\n",
    "\n",
    "# Case conversion\n",
    "upper_case = greeting.upper()  # \"HELLO WORLD\"\n",
    "lower_case = greeting.lower()  # \"hello world\"\n",
    "title_case = greeting.title()  # \"Hello World\"\n",
    "\n",
    "# Checking content\n",
    "starts_with = greeting.startswith(\"Hello\")  # True\n",
    "ends_with = greeting.endswith(\"World\")  # True\n",
    "contains = \"lo\" in greeting  # True\n",
    "\n",
    "# Stripping whitespace\n",
    "text = \"   hello   \"\n",
    "stripped = text.strip()  # \"hello\"\n",
    "left_strip = text.lstrip()  # \"hello   \"\n",
    "right_strip = text.rstrip()  # \"   hello\"\n",
    "\n",
    "# Splitting and joining\n",
    "split_string = \"Hello,World\".split(\",\")  # [\"Hello\", \"World\"]\n",
    "joined_string = \"-\".join([\"Hello\", \"World\"])  # \"Hello-World\"\n",
    "\n",
    "# Formatting\n",
    "name = \"Alice\"\n",
    "age = 30\n",
    "formatted = f\"{name} is {age} years old\"  # \"Alice is 30 years old\""
   ]
  },
  {
   "cell_type": "markdown",
   "id": "2fd97c68-da08-4696-a14c-3b5dd3cd260a",
   "metadata": {},
   "source": [
    "## 5. Lists (list)\n",
    "\n",
    "Lists are ordered, mutable collections that can hold items of any data type. They are defined using square brackets `[]`."
   ]
  },
  {
   "cell_type": "code",
   "execution_count": 105,
   "id": "0a694c20-f031-4014-ad7a-1db031a25bb0",
   "metadata": {},
   "outputs": [
    {
     "name": "stdout",
     "output_type": "stream",
     "text": [
      "<class 'list'>\n"
     ]
    }
   ],
   "source": [
    "# Creating lists\n",
    "empty_list = []\n",
    "numbers = [1, 2, 3, 4, 5]\n",
    "mixed_list = [1, \"hello\", 3.14, True]\n",
    "nested_list = [1, [2, 3], 4]\n",
    "\n",
    "print(type(numbers))  # <class 'list'>"
   ]
  },
  {
   "cell_type": "markdown",
   "id": "bb4c0c6c-aa33-442a-9fa2-c1fc0258d47b",
   "metadata": {},
   "source": [
    "### List Operations and Methods"
   ]
  },
  {
   "cell_type": "code",
   "execution_count": 106,
   "id": "12ce76c4-b148-422e-bd72-d36b50f29117",
   "metadata": {},
   "outputs": [],
   "source": [
    "# Accessing elements\n",
    "first_item = numbers[0]  # 1\n",
    "last_item = numbers[-1]  # 5\n",
    "\n",
    "# Slicing\n",
    "subset = numbers[1:4]  # [2, 3, 4]\n",
    "reversed_list = numbers[::-1]  # [5, 4, 3, 2, 1]\n",
    "\n",
    "# Modifying lists\n",
    "numbers[2] = 10  # Changes third element to 10: [1, 2, 10, 4, 5]\n",
    "\n",
    "# Adding elements\n",
    "numbers.append(6)  # Adds 6 to end: [1, 2, 10, 4, 5, 6]\n",
    "numbers.insert(1, 1.5)  # Inserts 1.5 at index 1: [1, 1.5, 2, 10, 4, 5, 6]\n",
    "numbers.extend([7, 8, 9])  # Adds multiple items: [1, 1.5, 2, 10, 4, 5, 6, 7, 8, 9]\n",
    "\n",
    "# Removing elements\n",
    "numbers.remove(1.5)  # Removes first occurrence of 1.5\n",
    "popped = numbers.pop()  # Removes and returns last item: 9\n",
    "popped_index = numbers.pop(2)  # Removes and returns item at index 2: 2\n",
    "del numbers[1]  # Removes item at index 1 without returning it\n",
    "\n",
    "# Finding elements\n",
    "index = numbers.index(5)  # Returns index of first occurrence of 5\n",
    "count = numbers.count(1)  # Counts occurrences of 1\n",
    "presence = 4 in numbers  # Checks if 4 is in the list: True\n",
    "\n",
    "# Sorting and reversing\n",
    "numbers.sort()  # Sorts in-place ascending\n",
    "numbers.sort(reverse=True)  # Sorts in-place descending\n",
    "numbers.reverse()  # Reverses in-place\n",
    "sorted_list = sorted(numbers)  # Returns new sorted list\n",
    "reversed_list = list(reversed(numbers))  # Returns new reversed list\n",
    "\n",
    "# Length\n",
    "length = len(numbers)"
   ]
  },
  {
   "cell_type": "markdown",
   "id": "90d4cd8a-2ba7-4b62-8671-a4baa80d7b9b",
   "metadata": {},
   "source": [
    "## 6. Tuples (tuple)\n",
    "\n",
    "Tuples are ordered, immutable collections. They are similar to lists but cannot be modified after creation, making them more memory-efficient and safer for fixed data."
   ]
  },
  {
   "cell_type": "code",
   "execution_count": 107,
   "id": "15603dce-24a6-484f-a5a7-982b22a682f8",
   "metadata": {},
   "outputs": [
    {
     "name": "stdout",
     "output_type": "stream",
     "text": [
      "<class 'tuple'>\n"
     ]
    }
   ],
   "source": [
    "# Creating tuples\n",
    "empty_tuple = ()\n",
    "single_item = (1,)  # Note the comma for single-item tuples\n",
    "coordinates = (10, 20)\n",
    "mixed_tuple = (1, \"hello\", 3.14)\n",
    "nested_tuple = (1, (2, 3), 4)\n",
    "\n",
    "# Tuple packing (without parentheses)\n",
    "point = 10, 20, 30\n",
    "\n",
    "print(type(coordinates))  # <class 'tuple'>"
   ]
  },
  {
   "cell_type": "markdown",
   "id": "119f9ebf-823a-4cc9-9892-e7ca34bb1b8c",
   "metadata": {},
   "source": [
    "### Tuple Operations"
   ]
  },
  {
   "cell_type": "code",
   "execution_count": 108,
   "id": "f22d6fd1-87fd-4c6a-b878-abede6a7ddb5",
   "metadata": {},
   "outputs": [],
   "source": [
    "# Accessing elements (same as lists)\n",
    "x = coordinates[0]  # 10\n",
    "y = coordinates[1]  # 20\n",
    "\n",
    "# Slicing (same as lists)\n",
    "subset = point[0:2]  # (10, 20)\n",
    "\n",
    "# Tuple unpacking\n",
    "x, y, z = point  # x=10, y=20, z=30\n",
    "\n",
    "# Count and index\n",
    "letters = ('a', 'b', 'c', 'a', 'd')\n",
    "a_count = letters.count('a')  # 2\n",
    "b_index = letters.index('b')  # 1\n",
    "\n",
    "# Length\n",
    "length = len(letters)  # 5\n",
    "\n",
    "# Immutability\n",
    "# coordinates[0] = 15  # TypeError: 'tuple' object does not support item assignment"
   ]
  },
  {
   "cell_type": "markdown",
   "id": "a8a7f4c6-8f1e-44d2-a580-7a1654ffca18",
   "metadata": {},
   "source": [
    "### When to Use Tuples vs Lists\n",
    "\n",
    "- Use tuples for:\n",
    "  - Immutable data (that shouldn't change)\n",
    "  - Faster access than lists\n",
    "  - Dictionary keys (lists can't be used as keys)\n",
    "  - Return values from functions where order matters\n",
    "\n",
    "- Use lists for:\n",
    "  - Collections that need to be modified\n",
    "  - When you need to add/remove items frequently\n"
   ]
  },
  {
   "cell_type": "markdown",
   "id": "4658e545-9ebe-45c8-b7b2-452e41b584f5",
   "metadata": {},
   "source": [
    "## 7. Ranges (range)\n",
    "\n",
    "Ranges represent sequences of numbers, commonly used in loops. They are memory-efficient because they don't store all values in memory at once."
   ]
  },
  {
   "cell_type": "code",
   "execution_count": 109,
   "id": "baa2bf51-85f7-4a88-afe2-2dc3046dea86",
   "metadata": {},
   "outputs": [
    {
     "name": "stdout",
     "output_type": "stream",
     "text": [
      "<class 'range'>\n"
     ]
    }
   ],
   "source": [
    "# Creating ranges\n",
    "range1 = range(5)  # 0, 1, 2, 3, 4\n",
    "range2 = range(1, 6)  # 1, 2, 3, 4, 5\n",
    "range3 = range(1, 10, 2)  # 1, 3, 5, 7, 9 (step of 2)\n",
    "range4 = range(10, 0, -1)  # 10, 9, 8, ..., 1 (step of -1)\n",
    "\n",
    "print(type(range1))  # <class 'range'>"
   ]
  },
  {
   "cell_type": "markdown",
   "id": "671051ba-c767-47b7-abc7-76532bbd8210",
   "metadata": {},
   "source": [
    "### Range Operations"
   ]
  },
  {
   "cell_type": "code",
   "execution_count": 110,
   "id": "1b6dc7a0-4ba4-4451-9fb5-4f9568f0e15e",
   "metadata": {},
   "outputs": [],
   "source": [
    "# Converting to list (to see all values)\n",
    "list_from_range = list(range3)  # [1, 3, 5, 7, 9]\n",
    "\n",
    "# Membership testing\n",
    "is_in_range = 5 in range3  # True\n",
    "is_not_in_range = 2 in range3  # False\n",
    "\n",
    "# Indexing\n",
    "third_item = range3[2]  # 5\n",
    "\n",
    "# Length\n",
    "length = len(range3)  # 5"
   ]
  },
  {
   "cell_type": "markdown",
   "id": "42981f85-6b31-48b5-abc2-d5965d0b4ea8",
   "metadata": {},
   "source": [
    "### Common Use Cases"
   ]
  },
  {
   "cell_type": "code",
   "execution_count": 111,
   "id": "c19e7dcb-3d2e-48e5-9c17-3d00202e792d",
   "metadata": {},
   "outputs": [
    {
     "name": "stdout",
     "output_type": "stream",
     "text": [
      "0\n",
      "1\n",
      "2\n",
      "3\n",
      "4\n"
     ]
    }
   ],
   "source": [
    "# For loop with range\n",
    "for i in range(5):\n",
    "    print(i)  # Prints 0, 1, 2, 3, 4\n",
    "\n",
    "# Creating sequences of numbers\n",
    "even_numbers = list(range(0, 11, 2))  # [0, 2, 4, 6, 8, 10]\n"
   ]
  },
  {
   "cell_type": "markdown",
   "id": "c6a7df18-0328-400a-8a13-c637b43b8c1d",
   "metadata": {},
   "source": [
    "## 8. Dictionaries (dict)\n",
    "\n",
    "Dictionaries store key-value pairs, providing fast lookups based on keys. Keys must be immutable (strings, numbers, tuples of immutables), while values can be any type."
   ]
  },
  {
   "cell_type": "code",
   "execution_count": 112,
   "id": "6029d897-fd2d-46d7-abb8-7de2e218c4e1",
   "metadata": {},
   "outputs": [
    {
     "name": "stdout",
     "output_type": "stream",
     "text": [
      "<class 'dict'>\n"
     ]
    }
   ],
   "source": [
    "# Creating dictionaries\n",
    "empty_dict = {}\n",
    "person = {\"name\": \"Alice\", \"age\": 25, \"city\": \"New York\"}\n",
    "mixed_keys = {1: \"one\", \"two\": 2, (3, 4): \"tuple key\"}\n",
    "\n",
    "# Using dict() constructor\n",
    "person2 = dict(name=\"Bob\", age=30, city=\"Boston\")\n",
    "from_list = dict([(\"name\", \"Charlie\"), (\"age\", 35)])\n",
    "\n",
    "print(type(person))  # <class 'dict'>"
   ]
  },
  {
   "cell_type": "markdown",
   "id": "3d2a59c2-1eeb-4c44-83f3-9cce7e488d29",
   "metadata": {},
   "source": [
    "### Dictionary Operations and Methods"
   ]
  },
  {
   "cell_type": "code",
   "execution_count": 113,
   "id": "0df2e52b-d12a-4066-820f-61acdc27b5f8",
   "metadata": {},
   "outputs": [],
   "source": [
    "# Accessing values\n",
    "name = person[\"name\"]  # \"Alice\"\n",
    "# Using get (safer, returns None or default if key doesn't exist)\n",
    "age = person.get(\"age\")  # 25\n",
    "country = person.get(\"country\", \"Unknown\")  # \"Unknown\" (default)\n",
    "\n",
    "# Adding or modifying values\n",
    "person[\"email\"] = \"alice@example.com\"  # Adds new key-value pair\n",
    "person[\"age\"] = 26  # Updates existing value\n",
    "\n",
    "# Removing items\n",
    "removed_age = person.pop(\"age\")  # Removes and returns the value: 26\n",
    "person.popitem()  # Removes and returns last inserted item as tuple\n",
    "del person[\"city\"]  # Removes key-value pair without returning\n",
    "\n",
    "# Checking keys\n",
    "has_name = \"name\" in person  # True\n",
    "has_country = \"country\" in person  # False\n",
    "\n",
    "# Getting all keys, values, and items\n",
    "keys = list(person.keys())  # List of keys\n",
    "values = list(person.values())  # List of values\n",
    "items = list(person.items())  # List of (key, value) tuples\n",
    "\n",
    "# Merging dictionaries\n",
    "dict1 = {\"a\": 1, \"b\": 2}\n",
    "dict2 = {\"b\": 3, \"c\": 4}\n",
    "dict1.update(dict2)  # dict1 is now {\"a\": 1, \"b\": 3, \"c\": 4}\n",
    "\n",
    "# Dictionary comprehension\n",
    "squares = {x: x**2 for x in range(1, 6)}  # {1: 1, 2: 4, 3: 9, 4: 16, 5: 25}"
   ]
  },
  {
   "cell_type": "markdown",
   "id": "f04af731-4a3f-4d7c-a35f-e2f1a3b2c064",
   "metadata": {},
   "source": [
    "## 9. Booleans (bool)\n",
    "\n",
    "Booleans represent truth values with only two possible states: `True` or `False`. They are essential for control flow and logical operations."
   ]
  },
  {
   "cell_type": "code",
   "execution_count": 114,
   "id": "159b2a24-12b6-4b28-b3bf-eb0c938e1feb",
   "metadata": {},
   "outputs": [
    {
     "name": "stdout",
     "output_type": "stream",
     "text": [
      "<class 'bool'>\n"
     ]
    }
   ],
   "source": [
    "# Creating booleans\n",
    "is_active = True\n",
    "has_permission = False\n",
    "\n",
    "print(type(is_active))  # <class 'bool'>"
   ]
  },
  {
   "cell_type": "markdown",
   "id": "3c56acbf-007c-4948-85eb-c4703d381c4f",
   "metadata": {},
   "source": [
    "### Boolean Operations:"
   ]
  },
  {
   "cell_type": "code",
   "execution_count": 115,
   "id": "129c385f-4715-4ba1-b3c4-673f706a0262",
   "metadata": {},
   "outputs": [],
   "source": [
    "# Logical operations\n",
    "and_result = True and False  # False\n",
    "or_result = True or False  # True\n",
    "not_result = not True  # False\n",
    "\n",
    "# Comparison operations\n",
    "equal = (5 == 5)  # True\n",
    "not_equal = (5 != 3)  # True\n",
    "greater_than = (5 > 3)  # True\n",
    "less_than = (5 < 10)  # True\n",
    "greater_equal = (5 >= 5)  # True\n",
    "less_equal = (5 <= 10)  # True"
   ]
  },
  {
   "cell_type": "markdown",
   "id": "3bd5ce9a-37ff-42ae-984b-41c764ddb579",
   "metadata": {},
   "source": [
    "### Truthiness and Falsiness\n",
    "\n",
    "In Python, objects can be evaluated for their \"truthiness\":"
   ]
  },
  {
   "cell_type": "code",
   "execution_count": 116,
   "id": "b11a27e0-44fa-4dc6-a58d-33a94ff5d9ad",
   "metadata": {},
   "outputs": [
    {
     "data": {
      "text/plain": [
       "False"
      ]
     },
     "execution_count": 116,
     "metadata": {},
     "output_type": "execute_result"
    }
   ],
   "source": [
    "# These values evaluate to False:\n",
    "bool(0)  # False\n",
    "bool(\"\")  # False\n",
    "bool([])  # False\n",
    "bool({})  # False\n",
    "bool(None)  # False\n",
    "bool(False)  # False"
   ]
  },
  {
   "cell_type": "markdown",
   "id": "91f11515-83d7-49da-bc4c-d497803aa1e6",
   "metadata": {},
   "source": [
    "## 10. Sets (set)\n",
    "Sets are unordered collections of unique elements."
   ]
  },
  {
   "cell_type": "code",
   "execution_count": 117,
   "id": "348c699c-ace8-4e26-a063-a0fb8f69eaa1",
   "metadata": {},
   "outputs": [
    {
     "name": "stdout",
     "output_type": "stream",
     "text": [
      "<class 'set'>\n"
     ]
    }
   ],
   "source": [
    "set_example = {1, 2, 3, 4, 5}\n",
    "print(type(set_example))  # <class 'set'>"
   ]
  },
  {
   "cell_type": "markdown",
   "id": "c6580661-f7a0-464a-8a7a-8a6bf244d839",
   "metadata": {},
   "source": [
    "### Operations on Sets:"
   ]
  },
  {
   "cell_type": "code",
   "execution_count": 118,
   "id": "46b57c7b-c063-45af-8d03-9aa597f7e62e",
   "metadata": {},
   "outputs": [],
   "source": [
    "set_example.add(6)  # Add element\n",
    "set_example.remove(3)  # Remove element\n",
    "union_set = set_example.union({7, 8, 9})\n",
    "intersection_set = set_example.intersection({2, 4, 6})"
   ]
  },
  {
   "cell_type": "markdown",
   "id": "b9facd8d-7df7-4324-a5d0-ed53a22bfe58",
   "metadata": {},
   "source": [
    "## 11. Frozensets (frozenset)\n",
    "Frozensets are immutable sets."
   ]
  },
  {
   "cell_type": "code",
   "execution_count": 119,
   "id": "3394dc34-f458-4158-918c-a38407d8c4c3",
   "metadata": {},
   "outputs": [
    {
     "name": "stdout",
     "output_type": "stream",
     "text": [
      "<class 'frozenset'>\n"
     ]
    }
   ],
   "source": [
    "frozenset_example = frozenset({1, 2, 3, 4, 5})\n",
    "print(type(frozenset_example))  # <class 'frozenset'>"
   ]
  },
  {
   "cell_type": "markdown",
   "id": "79954136-7a1c-4a15-bc72-58dd2285e559",
   "metadata": {},
   "source": [
    "### Frozensets are immutable, so elements cannot be added or removed."
   ]
  }
 ],
 "metadata": {
  "kernelspec": {
   "display_name": "Python 3 (ipykernel)",
   "language": "python",
   "name": "python3"
  },
  "language_info": {
   "codemirror_mode": {
    "name": "ipython",
    "version": 3
   },
   "file_extension": ".py",
   "mimetype": "text/x-python",
   "name": "python",
   "nbconvert_exporter": "python",
   "pygments_lexer": "ipython3",
   "version": "3.12.0"
  }
 },
 "nbformat": 4,
 "nbformat_minor": 5
}
